{
 "cells": [
  {
   "cell_type": "markdown",
   "metadata": {},
   "source": [
    "# HTTP Request/Response Cycle - Lab\n",
    "\n",
    "## Introduction \n",
    "\n",
    "In this lab, we'll make use of the `requests` module commands and properties seen in the previous lesson, to extract information for a web service called **\"Open Notify\"** to access NASA's space data. \n",
    "\n",
    "## Objectives\n",
    "\n",
    "You will be able to:\n",
    "\n",
    "* Understand and explain the HTTP Request/Response cycle\n",
    "* Make http requests in Python using the ‘requests’ library\n",
    "\n",
    "## Open Notify \n",
    "\n",
    "[Open Notify](http://open-notify.org/)  is an an open source project to provide a simple programming interface for some of NASA’s awesome data. This takes live raw data from NASA's systems and turn them into APIs related to space and spacecraft. We can access following information from open notify. \n",
    "\n",
    "* Current Location of the International Space Station\n",
    "\n",
    "* Overhead Pass Predictions for the International Space Station\n",
    "\n",
    "* Number of People in Space\n",
    "    \n",
    "### API endpoints\n",
    "\n",
    "OpenNotify has several API endpoints. \n",
    ">An endpoint is a server route that is used to retrieve different data from the API. \n",
    "\n",
    "For example, the `/comments` endpoint on the Reddit API might retrieve information about comments, whereas the `/users` endpoint might retrieve data about users. To access them, you would add the endpoint to the base url of the API.\n",
    "\n",
    "For the OpenNotify API, we have following end points \n",
    "\n",
    "1. Current Location of the International Space Station `/iss-now.json`\n",
    "2. Overhead Pass Predictions for the International Space Station `/iss-pass.json`    \n",
    "3. Number of People in Space `/astros.json`\n",
    "\n",
    "The json extension simple tells us that the data is being returned in a JSON format.\n",
    "\n",
    "In this lab, we'll be querying a this API to retrieve live data about the International Space Station (ISS). Details on OpenNofity , endpoints, syntax and services it offers can be viewed [Here](http://open-notify.org/Open-Notify-API/)\n",
    "\n",
    "![](images/iss.jpg)\n",
    "\n",
    "### Current location of International Space Station\n",
    "\n",
    "The first endpoint we'll look at on OpenNotify is the` iss-now.json` endpoint (current location of international space station). This endpoint gets the current latitude and longitude of the International Space Station.  Perform following tasks \n",
    "* Make a get request to get the latest position of the international space station from the opennotify api's `iss_now` endpoint at http://api.open-notify.org/iss-now.json\n",
    "* Check the status code of the response\n",
    "* Interpret the returned code"
   ]
  },
  {
   "cell_type": "code",
   "execution_count": 1,
   "metadata": {},
   "outputs": [],
   "source": [
    "import requests"
   ]
  },
  {
   "cell_type": "code",
   "execution_count": null,
   "metadata": {},
   "outputs": [],
   "source": []
  },
  {
   "cell_type": "code",
   "execution_count": 2,
   "metadata": {},
   "outputs": [
    {
     "data": {
      "text/plain": [
       "requests.models.Response"
      ]
     },
     "execution_count": 2,
     "metadata": {},
     "output_type": "execute_result"
    }
   ],
   "source": [
    "resp = requests.get('http://api.open-notify.org/iss-now.json')\n",
    "type(resp)\n"
   ]
  },
  {
   "cell_type": "code",
   "execution_count": 3,
   "metadata": {},
   "outputs": [
    {
     "data": {
      "text/plain": [
       "<urllib3.response.HTTPResponse at 0x7fa9bf0b9320>"
      ]
     },
     "execution_count": 3,
     "metadata": {},
     "output_type": "execute_result"
    }
   ],
   "source": [
    "resp.raw"
   ]
  },
  {
   "cell_type": "code",
   "execution_count": 4,
   "metadata": {},
   "outputs": [
    {
     "data": {
      "text/plain": [
       "True"
      ]
     },
     "execution_count": 4,
     "metadata": {},
     "output_type": "execute_result"
    }
   ],
   "source": [
    "resp.ok"
   ]
  },
  {
   "cell_type": "code",
   "execution_count": 5,
   "metadata": {},
   "outputs": [
    {
     "data": {
      "text/plain": [
       "<requests.adapters.HTTPAdapter at 0x7fa9bf09b3c8>"
      ]
     },
     "execution_count": 5,
     "metadata": {},
     "output_type": "execute_result"
    }
   ],
   "source": [
    "resp.connection"
   ]
  },
  {
   "cell_type": "code",
   "execution_count": 6,
   "metadata": {},
   "outputs": [
    {
     "data": {
      "text/plain": [
       "'{\"timestamp\": 1557863692, \"message\": \"success\", \"iss_position\": {\"latitude\": \"33.7835\", \"longitude\": \"143.9680\"}}'"
      ]
     },
     "execution_count": 6,
     "metadata": {},
     "output_type": "execute_result"
    }
   ],
   "source": [
    "resp.text"
   ]
  },
  {
   "cell_type": "markdown",
   "metadata": {},
   "source": [
    "* Print the contents of the response and identify its current location"
   ]
  },
  {
   "cell_type": "code",
   "execution_count": 7,
   "metadata": {},
   "outputs": [],
   "source": [
    "import ast\n"
   ]
  },
  {
   "cell_type": "code",
   "execution_count": 8,
   "metadata": {
    "scrolled": true
   },
   "outputs": [],
   "source": [
    "resp_dict = ast.literal_eval(resp.text)"
   ]
  },
  {
   "cell_type": "code",
   "execution_count": 9,
   "metadata": {},
   "outputs": [
    {
     "data": {
      "text/plain": [
       "{'latitude': '33.7835', 'longitude': '143.9680'}"
      ]
     },
     "execution_count": 9,
     "metadata": {},
     "output_type": "execute_result"
    }
   ],
   "source": [
    "resp_dict['iss_position']"
   ]
  },
  {
   "cell_type": "code",
   "execution_count": 10,
   "metadata": {},
   "outputs": [
    {
     "data": {
      "text/plain": [
       "<Response [200]>"
      ]
     },
     "execution_count": 10,
     "metadata": {},
     "output_type": "execute_result"
    }
   ],
   "source": [
    "resp"
   ]
  },
  {
   "cell_type": "code",
   "execution_count": 11,
   "metadata": {},
   "outputs": [
    {
     "data": {
      "text/plain": [
       "{'Server': 'nginx/1.10.3', 'Date': 'Tue, 14 May 2019 19:54:52 GMT', 'Content-Type': 'application/json', 'Content-Length': '113', 'Connection': 'keep-alive', 'access-control-allow-origin': '*'}"
      ]
     },
     "execution_count": 11,
     "metadata": {},
     "output_type": "execute_result"
    }
   ],
   "source": [
    "resp.headers"
   ]
  },
  {
   "cell_type": "code",
   "execution_count": 12,
   "metadata": {},
   "outputs": [
    {
     "data": {
      "text/plain": [
       "{'Server': 'nginx/1.10.3',\n",
       " 'Date': 'Tue, 14 May 2019 19:54:52 GMT',\n",
       " 'Content-Type': 'application/json',\n",
       " 'Content-Length': '113',\n",
       " 'Connection': 'keep-alive',\n",
       " 'access-control-allow-origin': '*'}"
      ]
     },
     "execution_count": 12,
     "metadata": {},
     "output_type": "execute_result"
    }
   ],
   "source": [
    "dict(resp.headers)"
   ]
  },
  {
   "cell_type": "code",
   "execution_count": 13,
   "metadata": {},
   "outputs": [],
   "source": [
    "# Interpret your results using the API"
   ]
  },
  {
   "cell_type": "markdown",
   "metadata": {},
   "source": [
    "### Check the next pass of International space station for a given location\n",
    "\n",
    "Let's repeat the above for the second endpoint `iss_pass.json`. This end point is used to query the next pass of the space station on a given location. Let's just run as above and record your observations."
   ]
  },
  {
   "cell_type": "code",
   "execution_count": 14,
   "metadata": {},
   "outputs": [
    {
     "data": {
      "text/plain": [
       "requests.models.Response"
      ]
     },
     "execution_count": 14,
     "metadata": {},
     "output_type": "execute_result"
    }
   ],
   "source": [
    "resp = requests.get('http://api.open-notify.org/iss-pass.json')\n",
    "type(resp)"
   ]
  },
  {
   "cell_type": "code",
   "execution_count": 15,
   "metadata": {},
   "outputs": [
    {
     "data": {
      "text/plain": [
       "<Response [400]>"
      ]
     },
     "execution_count": 15,
     "metadata": {},
     "output_type": "execute_result"
    }
   ],
   "source": [
    "resp"
   ]
  },
  {
   "cell_type": "markdown",
   "metadata": {},
   "source": [
    "So clearly there is something wrong as we had a 400 response. This is how you should always test your responses for validity. \n",
    "\n",
    "if we look at the documentation for the OpenNotify API, we see that the ISS Pass endpoint requires two parameters.\n",
    "\n",
    "> The ISS Pass endpoint returns when the ISS will next pass over a given location on earth. In order to compute this, we need to pass the coordinates of the location to the API. We do this by passing two parameters -- latitude and longitude.\n",
    "\n",
    "We can do this by adding an optional keyword argument, params, to our request. In this case, there are two parameters we need to pass:\n",
    "\n",
    "* lat -- The latitude of the location we want.\n",
    "* lon -- The longitude of the location we want.\n",
    "\n",
    "Perform the following tasks :\n",
    "* Set parameters to reflect the lat and long of New York  (40.71, -74)\n",
    "* Send a get request to OpenNotify passing in the lat long parameters as k:v pairs in a dictionary\n",
    "* Check the status code and interpret\n",
    "* Print the header information and the returned content"
   ]
  },
  {
   "cell_type": "code",
   "execution_count": 16,
   "metadata": {},
   "outputs": [
    {
     "name": "stdout",
     "output_type": "stream",
     "text": [
      "http://api.open-notify.org/iss-pass.json?lat=29.7&lon=95.3&alt=10000&n=100\n",
      "{\n",
      "  \"message\": \"success\", \n",
      "  \"request\": {\n",
      "    \"altitude\": 10000.0, \n",
      "    \"datetime\": 1557861019, \n",
      "    \"latitude\": 29.7, \n",
      "    \"longitude\": 95.3, \n",
      "    \"passes\": 100\n",
      "  }, \n",
      "  \"response\": [\n",
      "    {\n",
      "      \"duration\": 394, \n",
      "      \"risetime\": 1557868810\n",
      "    }, \n",
      "    {\n",
      "      \"duration\": 626, \n",
      "      \"risetime\": 1557874531\n",
      "    }, \n",
      "    {\n",
      "      \"duration\": 516, \n",
      "      \"risetime\": 1557880361\n",
      "    }, \n",
      "    {\n",
      "      \"duration\": 589, \n",
      "      \"risetime\": 1557928552\n",
      "    }, \n",
      "    {\n",
      "      \"duration\": 593, \n",
      "      \"risetime\": 1557934339\n",
      "    }, \n",
      "    {\n",
      "      \"duration\": 272, \n",
      "      \"risetime\": 1557940355\n",
      "    }, \n",
      "    {\n",
      "      \"duration\": 261, \n",
      "      \"risetime\": 1557952198\n",
      "    }, \n",
      "    {\n",
      "      \"duration\": 590, \n",
      "      \"risetime\": 1557957891\n",
      "    }, \n",
      "    {\n",
      "      \"duration\": 595, \n",
      "      \"risetime\": 1557963680\n",
      "    }, \n",
      "    {\n",
      "      \"duration\": 506, \n",
      "      \"risetime\": 1558011952\n",
      "    }, \n",
      "    {\n",
      "      \"duration\": 626, \n",
      "      \"risetime\": 1558017665\n",
      "    }, \n",
      "    {\n",
      "      \"duration\": 402, \n",
      "      \"risetime\": 1558023613\n",
      "    }, \n",
      "    {\n",
      "      \"duration\": 532, \n",
      "      \"risetime\": 1558041257\n",
      "    }, \n",
      "    {\n",
      "      \"duration\": 631, \n",
      "      \"risetime\": 1558047016\n",
      "    }, \n",
      "    {\n",
      "      \"duration\": 180, \n",
      "      \"risetime\": 1558052996\n",
      "    }, \n",
      "    {\n",
      "      \"duration\": 335, \n",
      "      \"risetime\": 1558095398\n",
      "    }, \n",
      "    {\n",
      "      \"duration\": 634, \n",
      "      \"risetime\": 1558101009\n",
      "    }, \n",
      "    {\n",
      "      \"duration\": 497, \n",
      "      \"risetime\": 1558106893\n",
      "    }, \n",
      "    {\n",
      "      \"duration\": 448, \n",
      "      \"risetime\": 1558124629\n",
      "    }, \n",
      "    {\n",
      "      \"duration\": 634, \n",
      "      \"risetime\": 1558130363\n",
      "    }, \n",
      "    {\n",
      "      \"duration\": 448, \n",
      "      \"risetime\": 1558136224\n",
      "    }, \n",
      "    {\n",
      "      \"duration\": 614, \n",
      "      \"risetime\": 1558184371\n",
      "    }, \n",
      "    {\n",
      "      \"duration\": 566, \n",
      "      \"risetime\": 1558190192\n",
      "    }, \n",
      "    {\n",
      "      \"duration\": 176, \n",
      "      \"risetime\": 1558196254\n",
      "    }, \n",
      "    {\n",
      "      \"duration\": 336, \n",
      "      \"risetime\": 1558208010\n",
      "    }, \n",
      "    {\n",
      "      \"duration\": 612, \n",
      "      \"risetime\": 1558213719\n",
      "    }, \n",
      "    {\n",
      "      \"duration\": 561, \n",
      "      \"risetime\": 1558219527\n",
      "    }, \n",
      "    {\n",
      "      \"duration\": 556, \n",
      "      \"risetime\": 1558267755\n",
      "    }, \n",
      "    {\n",
      "      \"duration\": 612, \n",
      "      \"risetime\": 1558273509\n",
      "    }, \n",
      "    {\n",
      "      \"duration\": 340, \n",
      "      \"risetime\": 1558279491\n",
      "    }, \n",
      "    {\n",
      "      \"duration\": 169, \n",
      "      \"risetime\": 1558291412\n",
      "    }, \n",
      "    {\n",
      "      \"duration\": 565, \n",
      "      \"risetime\": 1558297081\n",
      "    }, \n",
      "    {\n",
      "      \"duration\": 616, \n",
      "      \"risetime\": 1558302854\n",
      "    }, \n",
      "    {\n",
      "      \"duration\": 440, \n",
      "      \"risetime\": 1558351172\n",
      "    }, \n",
      "    {\n",
      "      \"duration\": 633, \n",
      "      \"risetime\": 1558356842\n",
      "    }, \n",
      "    {\n",
      "      \"duration\": 451, \n",
      "      \"risetime\": 1558362759\n",
      "    }, \n",
      "    {\n",
      "      \"duration\": 495, \n",
      "      \"risetime\": 1558380449\n",
      "    }, \n",
      "    {\n",
      "      \"duration\": 636, \n",
      "      \"risetime\": 1558386196\n",
      "    }, \n",
      "    {\n",
      "      \"duration\": 347, \n",
      "      \"risetime\": 1558392101\n",
      "    }, \n",
      "    {\n",
      "      \"duration\": 151, \n",
      "      \"risetime\": 1558434678\n",
      "    }, \n",
      "    {\n",
      "      \"duration\": 628, \n",
      "      \"risetime\": 1558440193\n",
      "    }, \n",
      "    {\n",
      "      \"duration\": 533, \n",
      "      \"risetime\": 1558446048\n",
      "    }, \n",
      "    {\n",
      "      \"duration\": 398, \n",
      "      \"risetime\": 1558463824\n",
      "    }, \n",
      "    {\n",
      "      \"duration\": 626, \n",
      "      \"risetime\": 1558469546\n",
      "    }, \n",
      "    {\n",
      "      \"duration\": 512, \n",
      "      \"risetime\": 1558475378\n",
      "    }, \n",
      "    {\n",
      "      \"duration\": 591, \n",
      "      \"risetime\": 1558523565\n",
      "    }, \n",
      "    {\n",
      "      \"duration\": 591, \n",
      "      \"risetime\": 1558529355\n",
      "    }, \n",
      "    {\n",
      "      \"duration\": 265, \n",
      "      \"risetime\": 1558535374\n",
      "    }, \n",
      "    {\n",
      "      \"duration\": 266, \n",
      "      \"risetime\": 1558547211\n",
      "    }, \n",
      "    {\n",
      "      \"duration\": 592, \n",
      "      \"risetime\": 1558552905\n",
      "    }, \n",
      "    {\n",
      "      \"duration\": 593, \n",
      "      \"risetime\": 1558558694\n",
      "    }, \n",
      "    {\n",
      "      \"duration\": 510, \n",
      "      \"risetime\": 1558606962\n",
      "    }, \n",
      "    {\n",
      "      \"duration\": 625, \n",
      "      \"risetime\": 1558612678\n",
      "    }, \n",
      "    {\n",
      "      \"duration\": 397, \n",
      "      \"risetime\": 1558618629\n",
      "    }, \n",
      "    {\n",
      "      \"duration\": 534, \n",
      "      \"risetime\": 1558636269\n",
      "    }, \n",
      "    {\n",
      "      \"duration\": 629, \n",
      "      \"risetime\": 1558642028\n",
      "    }, \n",
      "    {\n",
      "      \"duration\": 156, \n",
      "      \"risetime\": 1558648020\n",
      "    }, \n",
      "    {\n",
      "      \"duration\": 345, \n",
      "      \"risetime\": 1558690403\n",
      "    }, \n",
      "    {\n",
      "      \"duration\": 634, \n",
      "      \"risetime\": 1558696019\n",
      "    }, \n",
      "    {\n",
      "      \"duration\": 493, \n",
      "      \"risetime\": 1558701907\n",
      "    }, \n",
      "    {\n",
      "      \"duration\": 451, \n",
      "      \"risetime\": 1558719639\n",
      "    }, \n",
      "    {\n",
      "      \"duration\": 634, \n",
      "      \"risetime\": 1558725374\n",
      "    }, \n",
      "    {\n",
      "      \"duration\": 442, \n",
      "      \"risetime\": 1558731237\n",
      "    }, \n",
      "    {\n",
      "      \"duration\": 615, \n",
      "      \"risetime\": 1558779379\n",
      "    }, \n",
      "    {\n",
      "      \"duration\": 564, \n",
      "      \"risetime\": 1558785203\n",
      "    }, \n",
      "    {\n",
      "      \"duration\": 166, \n",
      "      \"risetime\": 1558791269\n",
      "    }, \n",
      "    {\n",
      "      \"duration\": 340, \n",
      "      \"risetime\": 1558803017\n",
      "    }, \n",
      "    {\n",
      "      \"duration\": 612, \n",
      "      \"risetime\": 1558808727\n",
      "    }, \n",
      "    {\n",
      "      \"duration\": 557, \n",
      "      \"risetime\": 1558814536\n",
      "    }, \n",
      "    {\n",
      "      \"duration\": 559, \n",
      "      \"risetime\": 1558862761\n",
      "    }, \n",
      "    {\n",
      "      \"duration\": 610, \n",
      "      \"risetime\": 1558868517\n",
      "    }, \n",
      "    {\n",
      "      \"duration\": 334, \n",
      "      \"risetime\": 1558874502\n",
      "    }, \n",
      "    {\n",
      "      \"duration\": 176, \n",
      "      \"risetime\": 1558886416\n",
      "    }, \n",
      "    {\n",
      "      \"duration\": 567, \n",
      "      \"risetime\": 1558892088\n",
      "    }, \n",
      "    {\n",
      "      \"duration\": 615, \n",
      "      \"risetime\": 1558897861\n",
      "    }, \n",
      "    {\n",
      "      \"duration\": 446, \n",
      "      \"risetime\": 1558946174\n",
      "    }, \n",
      "    {\n",
      "      \"duration\": 633, \n",
      "      \"risetime\": 1558951848\n",
      "    }, \n",
      "    {\n",
      "      \"duration\": 447, \n",
      "      \"risetime\": 1558957768\n",
      "    }, \n",
      "    {\n",
      "      \"duration\": 497, \n",
      "      \"risetime\": 1558975454\n",
      "    }, \n",
      "    {\n",
      "      \"duration\": 635, \n",
      "      \"risetime\": 1558981201\n",
      "    }, \n",
      "    {\n",
      "      \"duration\": 338, \n",
      "      \"risetime\": 1558987110\n",
      "    }, \n",
      "    {\n",
      "      \"duration\": 172, \n",
      "      \"risetime\": 1559029670\n",
      "    }, \n",
      "    {\n",
      "      \"duration\": 629, \n",
      "      \"risetime\": 1559035197\n",
      "    }, \n",
      "    {\n",
      "      \"duration\": 530, \n",
      "      \"risetime\": 1559041054\n",
      "    }, \n",
      "    {\n",
      "      \"duration\": 401, \n",
      "      \"risetime\": 1559058827\n",
      "    }, \n",
      "    {\n",
      "      \"duration\": 627, \n",
      "      \"risetime\": 1559064550\n",
      "    }, \n",
      "    {\n",
      "      \"duration\": 507, \n",
      "      \"risetime\": 1559070383\n",
      "    }, \n",
      "    {\n",
      "      \"duration\": 593, \n",
      "      \"risetime\": 1559118566\n",
      "    }, \n",
      "    {\n",
      "      \"duration\": 589, \n",
      "      \"risetime\": 1559124358\n",
      "    }, \n",
      "    {\n",
      "      \"duration\": 259, \n",
      "      \"risetime\": 1559130380\n",
      "    }, \n",
      "    {\n",
      "      \"duration\": 271, \n",
      "      \"risetime\": 1559142211\n",
      "    }, \n",
      "    {\n",
      "      \"duration\": 593, \n",
      "      \"risetime\": 1559147906\n",
      "    }, \n",
      "    {\n",
      "      \"duration\": 590, \n",
      "      \"risetime\": 1559153696\n",
      "    }, \n",
      "    {\n",
      "      \"duration\": 513, \n",
      "      \"risetime\": 1559201960\n",
      "    }, \n",
      "    {\n",
      "      \"duration\": 624, \n",
      "      \"risetime\": 1559207679\n",
      "    }, \n",
      "    {\n",
      "      \"duration\": 393, \n",
      "      \"risetime\": 1559213632\n",
      "    }, \n",
      "    {\n",
      "      \"duration\": 536, \n",
      "      \"risetime\": 1559231268\n",
      "    }, \n",
      "    {\n",
      "      \"duration\": 628, \n",
      "      \"risetime\": 1559237028\n",
      "    }, \n",
      "    {\n",
      "      \"duration\": 131, \n",
      "      \"risetime\": 1559243031\n",
      "    }, \n",
      "    {\n",
      "      \"duration\": 352, \n",
      "      \"risetime\": 1559285398\n",
      "    }\n",
      "  ]\n",
      "}\n",
      "\n"
     ]
    }
   ],
   "source": [
    "credentials = {'lat': 29.7, 'lon': 95.3, 'alt': 10000, 'n':100}  \n",
    "r = requests.get('http://api.open-notify.org/iss-pass.json', params=credentials)\n",
    "\n",
    "print(r.url)  \n",
    "print(r.text)\n",
    "\n"
   ]
  },
  {
   "cell_type": "code",
   "execution_count": 17,
   "metadata": {},
   "outputs": [],
   "source": [
    "iss = ast.literal_eval(r.text)\n",
    "time = iss['response'][0]['risetime']\n",
    "duration =iss['response'][0]['duration']"
   ]
  },
  {
   "cell_type": "code",
   "execution_count": 18,
   "metadata": {},
   "outputs": [
    {
     "data": {
      "text/plain": [
       "dict_keys(['message', 'request', 'response'])"
      ]
     },
     "execution_count": 18,
     "metadata": {},
     "output_type": "execute_result"
    }
   ],
   "source": [
    "iss.keys()"
   ]
  },
  {
   "cell_type": "code",
   "execution_count": 19,
   "metadata": {
    "scrolled": true
   },
   "outputs": [
    {
     "data": {
      "text/plain": [
       "{'duration': 394, 'risetime': 1557868810}"
      ]
     },
     "execution_count": 19,
     "metadata": {},
     "output_type": "execute_result"
    }
   ],
   "source": [
    "iss['response'][0]"
   ]
  },
  {
   "cell_type": "code",
   "execution_count": 20,
   "metadata": {
    "scrolled": true
   },
   "outputs": [
    {
     "data": {
      "text/plain": [
       "1557868810"
      ]
     },
     "execution_count": 20,
     "metadata": {},
     "output_type": "execute_result"
    }
   ],
   "source": [
    "time\n",
    "\n"
   ]
  },
  {
   "cell_type": "code",
   "execution_count": 21,
   "metadata": {},
   "outputs": [
    {
     "data": {
      "text/plain": [
       "394"
      ]
     },
     "execution_count": 21,
     "metadata": {},
     "output_type": "execute_result"
    }
   ],
   "source": [
    "duration\n"
   ]
  },
  {
   "cell_type": "code",
   "execution_count": 22,
   "metadata": {},
   "outputs": [],
   "source": [
    "import datetime\n",
    "s = time \n",
    "dt_time_hms = datetime.datetime.fromtimestamp(s).strftime('%H:%M:%S')\n"
   ]
  },
  {
   "cell_type": "code",
   "execution_count": 23,
   "metadata": {},
   "outputs": [],
   "source": [
    "dt = datetime.datetime.fromtimestamp(s).strftime(\"%B %-d, %Y\")"
   ]
  },
  {
   "cell_type": "code",
   "execution_count": 24,
   "metadata": {
    "scrolled": true
   },
   "outputs": [
    {
     "data": {
      "text/plain": [
       "'May 14, 2019'"
      ]
     },
     "execution_count": 24,
     "metadata": {},
     "output_type": "execute_result"
    }
   ],
   "source": [
    "dt"
   ]
  },
  {
   "cell_type": "code",
   "execution_count": 25,
   "metadata": {},
   "outputs": [
    {
     "data": {
      "text/plain": [
       "'21:20:10'"
      ]
     },
     "execution_count": 25,
     "metadata": {},
     "output_type": "execute_result"
    }
   ],
   "source": [
    "dt_time_hms"
   ]
  },
  {
   "cell_type": "code",
   "execution_count": 26,
   "metadata": {},
   "outputs": [
    {
     "name": "stdout",
     "output_type": "stream",
     "text": [
      "The ISS will next pass over Houston on May 14, 2019 at 21:20:10\n"
     ]
    }
   ],
   "source": [
    "print(f'The ISS will next pass over Houston on {dt} at {dt_time_hms}')"
   ]
  },
  {
   "cell_type": "code",
   "execution_count": 27,
   "metadata": {},
   "outputs": [
    {
     "ename": "SyntaxError",
     "evalue": "invalid syntax (<ipython-input-27-a26dd5574394>, line 1)",
     "output_type": "error",
     "traceback": [
      "\u001b[0;36m  File \u001b[0;32m\"<ipython-input-27-a26dd5574394>\"\u001b[0;36m, line \u001b[0;32m1\u001b[0m\n\u001b[0;31m    date = new Date(time);\u001b[0m\n\u001b[0m                  ^\u001b[0m\n\u001b[0;31mSyntaxError\u001b[0m\u001b[0;31m:\u001b[0m invalid syntax\n"
     ]
    }
   ],
   "source": [
    "date = new Date(time);\n",
    "#          $('#isspass').append('<li>' + date.toString() + '</li>')"
   ]
  },
  {
   "cell_type": "code",
   "execution_count": null,
   "metadata": {},
   "outputs": [],
   "source": [
    "s"
   ]
  },
  {
   "cell_type": "code",
   "execution_count": null,
   "metadata": {},
   "outputs": [],
   "source": [
    "# Check the API and interpret your results - when will ISS pass over NEW York next ?\n",
    "\n",
    "ast.literal_eval(r.text)"
   ]
  },
  {
   "cell_type": "markdown",
   "metadata": {},
   "source": [
    "### Finding the number of people in space\n",
    "\n",
    "OpenNotify has one more API endpoint, `/astros.json`. It tells you how many people are currently in space. The format of the responses can be studied [HERE](http://open-notify.org/Open-Notify-API/People-In-Space/).\n",
    "\n",
    "Read the above documentation and perform following tasks:\n",
    "\n",
    "* Get the response from astros.json endpoint\n",
    "* Count how many people are currently in space\n",
    "* List the names of people currently in space."
   ]
  },
  {
   "cell_type": "code",
   "execution_count": 28,
   "metadata": {},
   "outputs": [
    {
     "data": {
      "text/plain": [
       "requests.models.Response"
      ]
     },
     "execution_count": 28,
     "metadata": {},
     "output_type": "execute_result"
    }
   ],
   "source": [
    "resp = requests.get('http://api.open-notify.org/astros.json')\n",
    "type(resp)"
   ]
  },
  {
   "cell_type": "code",
   "execution_count": 10,
   "metadata": {},
   "outputs": [],
   "source": [
    "# Interpret the Results - How many people are in space and what are their names "
   ]
  },
  {
   "cell_type": "code",
   "execution_count": 29,
   "metadata": {},
   "outputs": [
    {
     "data": {
      "text/plain": [
       "'{\"message\": \"success\", \"number\": 6, \"people\": [{\"craft\": \"ISS\", \"name\": \"Oleg Kononenko\"}, {\"craft\": \"ISS\", \"name\": \"David Saint-Jacques\"}, {\"craft\": \"ISS\", \"name\": \"Anne McClain\"}, {\"craft\": \"ISS\", \"name\": \"Alexey Ovchinin\"}, {\"craft\": \"ISS\", \"name\": \"Nick Hague\"}, {\"craft\": \"ISS\", \"name\": \"Christina Koch\"}]}'"
      ]
     },
     "execution_count": 29,
     "metadata": {},
     "output_type": "execute_result"
    }
   ],
   "source": [
    "resp.text"
   ]
  },
  {
   "cell_type": "code",
   "execution_count": 35,
   "metadata": {},
   "outputs": [],
   "source": [
    "import pandas as pd"
   ]
  },
  {
   "cell_type": "code",
   "execution_count": null,
   "metadata": {},
   "outputs": [],
   "source": []
  },
  {
   "cell_type": "code",
   "execution_count": 34,
   "metadata": {},
   "outputs": [
    {
     "ename": "AttributeError",
     "evalue": "module 'pandas' has no attribute 'dataframe'",
     "output_type": "error",
     "traceback": [
      "\u001b[0;31m\u001b[0m",
      "\u001b[0;31mAttributeError\u001b[0mTraceback (most recent call last)",
      "\u001b[0;32m<ipython-input-34-b8ede26b1d1f>\u001b[0m in \u001b[0;36m<module>\u001b[0;34m()\u001b[0m\n\u001b[0;32m----> 1\u001b[0;31m \u001b[0mdf\u001b[0m \u001b[0;34m=\u001b[0m \u001b[0mpd\u001b[0m\u001b[0;34m.\u001b[0m\u001b[0mdataframe\u001b[0m\u001b[0;34m(\u001b[0m\u001b[0mast\u001b[0m\u001b[0;34m.\u001b[0m\u001b[0mliteral_eval\u001b[0m\u001b[0;34m(\u001b[0m\u001b[0mresp\u001b[0m\u001b[0;34m.\u001b[0m\u001b[0mtext\u001b[0m\u001b[0;34m)\u001b[0m\u001b[0;34m)\u001b[0m\u001b[0;34m\u001b[0m\u001b[0m\n\u001b[0m",
      "\u001b[0;31mAttributeError\u001b[0m: module 'pandas' has no attribute 'dataframe'"
     ]
    }
   ],
   "source": [
    "df = pd.dataframe(ast.literal_eval(resp.text))"
   ]
  },
  {
   "cell_type": "markdown",
   "metadata": {},
   "source": [
    "## Summary \n",
    "\n",
    "In this lesson we saw how we can use request and response methods to query an Open API. We also saw how to look at the contents returned with the API calls and how to parse them. Next, we'll look at connecting to APIs which are not OPEN, i.e. we would need to pass in some authentication information and filter the results. "
   ]
  }
 ],
 "metadata": {
  "kernelspec": {
   "display_name": "Python 3",
   "language": "python",
   "name": "python3"
  },
  "language_info": {
   "codemirror_mode": {
    "name": "ipython",
    "version": 3
   },
   "file_extension": ".py",
   "mimetype": "text/x-python",
   "name": "python",
   "nbconvert_exporter": "python",
   "pygments_lexer": "ipython3",
   "version": "3.6.6"
  }
 },
 "nbformat": 4,
 "nbformat_minor": 2
}
